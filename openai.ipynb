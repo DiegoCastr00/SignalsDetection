{
 "cells": [
  {
   "cell_type": "code",
   "execution_count": 3,
   "metadata": {},
   "outputs": [
    {
     "name": "stdout",
     "output_type": "stream",
     "text": [
      "Detected signal: up\n"
     ]
    }
   ],
   "source": [
    "from openai import OpenAI\n",
    "import base64\n",
    "import os\n",
    "from typing import Literal\n",
    "\n",
    "def encode_image(image_path: str) -> str:\n",
    "    try:\n",
    "        with open(image_path, \"rb\") as image_file:\n",
    "            return base64.b64encode(image_file.read()).decode(\"utf-8\")\n",
    "    except FileNotFoundError:\n",
    "        raise FileNotFoundError(f\"Image file not found at path: {image_path}\")\n",
    "    except Exception as e:\n",
    "        raise Exception(f\"Error encoding image: {str(e)}\")\n",
    "\n",
    "def analyze_image_signal(\n",
    "    image_path: str,\n",
    "    api_key: str\n",
    ") -> Literal['up', 'down', 'left', 'right', 'stop', 'no signal']:\n",
    "    client = OpenAI(api_key=api_key)\n",
    "    \n",
    "    # Encode image\n",
    "    base64_image = encode_image(image_path)\n",
    "    \n",
    "    # Define the prompt\n",
    "    prompt = \"\"\"Analyze this image and determine the direction of the signal shown in it. \n",
    "    The possible answers are: 'up', 'down', 'left', 'right', 'stop', or 'no signal'. \n",
    "    If you are unsure or the image does not contain a signal, return only 'no signal'. \n",
    "    Provide only the exact answer as a single word: 'up', 'down', 'left', 'right', 'stop', or 'no signal'. \n",
    "    Do not include any explanations or additional text.\"\"\"\n",
    "\n",
    "    try:\n",
    "        # Make API call\n",
    "        response = client.chat.completions.create(\n",
    "    model=\"gpt-4o-mini\",\n",
    "            messages=[\n",
    "                {\n",
    "                    \"role\": \"user\",\n",
    "                    \"content\": [\n",
    "                        {\n",
    "                            \"type\": \"text\",\n",
    "                            \"text\": prompt\n",
    "                        },\n",
    "                        {\n",
    "                            \"type\": \"image_url\",\n",
    "                            \"image_url\": {\n",
    "                                \"url\": f\"data:image/jpeg;base64,{base64_image}\"\n",
    "                            }\n",
    "                        }\n",
    "                    ]\n",
    "                }\n",
    "            ],\n",
    "            max_tokens=10  # Limit response length since we only need a single word\n",
    "        )\n",
    "        \n",
    "        # Extract and validate response\n",
    "        result = response.choices[0].message.content.strip().lower()\n",
    "        valid_responses = {'up', 'down', 'left', 'right', 'stop', 'no signal'}\n",
    "        \n",
    "        if result not in valid_responses:\n",
    "            return 'no signal'\n",
    "            \n",
    "        return result\n",
    "        \n",
    "    except Exception as e:\n",
    "        print(f\"Error analyzing image: {str(e)}\")\n",
    "        return 'no signal'\n",
    "\n",
    "# Example usage\n",
    "if __name__ == \"__main__\":\n",
    "    # Replace with your actual API key and image path\n",
    "    api_key = \"your-api-key\"\n",
    "    image_path = \"Direction/Up/0.jpg\"\n",
    "    \n",
    "    try:\n",
    "        result = analyze_image_signal(image_path, api_key)\n",
    "        print(f\"Detected signal: {result}\")\n",
    "    except Exception as e:\n",
    "        print(f\"Error: {str(e)}\")"
   ]
  }
 ],
 "metadata": {
  "kernelspec": {
   "display_name": "Python 3",
   "language": "python",
   "name": "python3"
  },
  "language_info": {
   "codemirror_mode": {
    "name": "ipython",
    "version": 3
   },
   "file_extension": ".py",
   "mimetype": "text/x-python",
   "name": "python",
   "nbconvert_exporter": "python",
   "pygments_lexer": "ipython3",
   "version": "3.10.12"
  }
 },
 "nbformat": 4,
 "nbformat_minor": 2
}
