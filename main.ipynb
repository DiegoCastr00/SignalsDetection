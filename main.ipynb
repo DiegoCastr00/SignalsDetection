{
 "cells": [
  {
   "cell_type": "code",
   "execution_count": 1,
   "metadata": {},
   "outputs": [
    {
     "name": "stdout",
     "output_type": "stream",
     "text": [
      "The city that never sleeps! New York is a vibrant and diverse metropolis with countless options for entertainment, culture, and adventure. Here are some fun things to do in New York:\n",
      "\n",
      "**Iconic Landmarks and Attractions:**\n",
      "\n",
      "1. **Statue of Liberty and Ellis Island**: Take a ferry to Liberty Island to see the iconic statue up close and visit the Ellis Island Immigration Museum.\n",
      "2. **Central Park**: A tranquil oasis in the middle of Manhattan, offering walking paths, lakes, and plenty of people-watching opportunities.\n",
      "3. **Times Square**: The heart of New York's entertainment district, known for its bright lights, giant billboards, and lively street performers.\n",
      "4. **Empire State Building**: For a panoramic view of the city, head to the observation deck of this iconic skyscraper.\n",
      "5. **9/11 Memorial & Museum**: A poignant tribute to the victims of the 9/11 attacks, featuring two large reflecting pools and a museum with personal stories and artifacts.\n",
      "\n",
      "**Museums and Galleries:**\n",
      "\n",
      "1. **The Metropolitan Museum of Art**: One of the world's largest and most famous museums, with a collection that spans over 5,000 years of art history.\n",
      "2. **American Museum of Natural History**: Home to over 30 million specimens, including dinosaur fossils, a giant blue whale, and a stunning planetarium.\n",
      "3. **Museum of Modern Art (MoMA)**: A world-renowned museum featuring an extensive collection of modern and contemporary art.\n",
      "4. **Guggenheim Museum**: Designed by Frank Lloyd Wright, this museum is known for its unique spiral architecture and an impressive collection of modern and contemporary art.\n",
      "5. **Whitney Museum of American Art**: Showcasing an impressive collection of American art from the 20th and 21st centuries.\n",
      "\n",
      "**Neighborhoods and Shopping:**\n",
      "\n",
      "1. **SoHo**: Known for its upscale boutiques, art galleries, and trendy restaurants.\n",
      "2. **Greenwich Village**: A charming neighborhood with a rich history, featuring historic brownstones, quaint shops, and lively nightlife.\n",
      "3. **Brooklyn**: Explore the trendy neighborhoods of Williamsburg, Bushwick, and DUMBO for a taste of hipster culture and artisanal cuisine.\n",
      "4. **Chinatown and Little Italy**: Experience the vibrant flavors and culture of these two iconic neighborhoods, with their colorful street art, authentic eateries, and bustling markets.\n",
      "5. **Fifth Avenue**: Luxury shopping at its finest, with iconic department stores like Saks Fifth Avenue, Bergdorf Goodman, and Tiffany & Co.\n",
      "\n",
      "**Performing Arts and Entertainment:**\n",
      "\n",
      "1. **Broadway Shows**: Catch a performance of a hit musical or play on the Great White Way.\n",
      "2. **Lincoln Center**: Home to the New York City Ballet, the Metropolitan Opera, and the New York Philharmonic.\n",
      "3. **Madison Square Garden**: Catch a concert, sports game, or comedy show at this iconic venue.\n",
      "4. **Comedy Cellar**: A legendary comedy club where you can see up-and-coming comedians and industry legends perform live.\n",
      "5. **SummerStage**: A free outdoor festival featuring music, dance, and theater performances in city parks.\n",
      "\n",
      "**Food and Drink:**\n",
      "\n",
      "1. **Try a classic New York-style pizza**: Lombardi's, Joe's Pizza, and Patsy's Pizzeria are just a few of the many iconic pizzerias in the city.\n",
      "2. **Visit a classic deli**: Katz's Delicatessen, Carnegie Deli, and Russ & Daughters Cafe are must-visits for a taste of traditional Jewish cuisine.\n",
      "3. **Explore the food markets**: Smorgasburg, Brooklyn Flea, and Chelsea Market offer a variety of artisanal food vendors and street food.\n",
      "4. **Take a brewery or winery tour**: New York is home to a thriving craft beer and wine scene, with many local breweries and wineries offering tours and tastings.\n",
      "5. **Indulge in a classic New York dessert**: Try a slice of cheesecake at Juniors, a hot dog at Gray's Papaya, or a bagel with lox at Ess-a-Bagel.\n",
      "\n",
      "These are just a few of the many fun things to do in New York. Depending on your interests and preferences, there are countless other attractions, activities, and experiences to explore in this vibrant city!\n"
     ]
    }
   ],
   "source": [
    "from decouple import config\n",
    "from together import Together\n",
    "\n",
    "TOGETHER_API_KEY= config('TOGETHER_API_KEY')\n",
    "\n",
    "client = Together()\n",
    "response = client.chat.completions.create(\n",
    "    model=\"meta-llama/Llama-3.2-11B-Vision-Instruct-Turbo\",\n",
    "    messages=[{\"role\": \"user\", \"content\": \"What are some fun things to do in New York?\"}],\n",
    ")\n",
    "print(response.choices[0].message.content)"
   ]
  }
 ],
 "metadata": {
  "kernelspec": {
   "display_name": "Python 3",
   "language": "python",
   "name": "python3"
  },
  "language_info": {
   "codemirror_mode": {
    "name": "ipython",
    "version": 3
   },
   "file_extension": ".py",
   "mimetype": "text/x-python",
   "name": "python",
   "nbconvert_exporter": "python",
   "pygments_lexer": "ipython3",
   "version": "3.10.12"
  }
 },
 "nbformat": 4,
 "nbformat_minor": 2
}
